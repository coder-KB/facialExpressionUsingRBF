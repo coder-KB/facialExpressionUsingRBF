{
 "cells": [
  {
   "cell_type": "code",
   "execution_count": 1,
   "metadata": {},
   "outputs": [],
   "source": [
    "# importing library\n",
    "import cv2\n",
    "import os"
   ]
  },
  {
   "cell_type": "code",
   "execution_count": 2,
   "metadata": {},
   "outputs": [
    {
     "data": {
      "text/plain": [
       "'/home/coderkb/Desktop/nnProject/FacialExpressionDetectionUsingRBF'"
      ]
     },
     "execution_count": 2,
     "metadata": {},
     "output_type": "execute_result"
    }
   ],
   "source": [
    "# getting currenct working directory\n",
    "currentWorkingDirectory = os.getcwd()\n",
    "currentWorkingDirectory"
   ]
  },
  {
   "cell_type": "code",
   "execution_count": 3,
   "metadata": {},
   "outputs": [],
   "source": [
    "# adding all category to this list\n",
    "categories = [\"happy\", \"sad\"]"
   ]
  },
  {
   "cell_type": "code",
   "execution_count": 4,
   "metadata": {},
   "outputs": [],
   "source": [
    "# cascade classifier to detect face in an image\n",
    "faceCascade = cv2.CascadeClassifier(\"haarcascade_frontalface_default.xml\")"
   ]
  },
  {
   "cell_type": "code",
   "execution_count": 5,
   "metadata": {},
   "outputs": [],
   "source": [
    "# for each of the category\n",
    "for category in categories:\n",
    "    \n",
    "    # changing the directory to each caegory\n",
    "    os.chdir(f\"{currentWorkingDirectory}/dataset/rawData/{category}\")\n",
    "    \n",
    "    # for each image\n",
    "    for img in os.listdir():\n",
    "        \n",
    "        image = cv2.imread(img)  # read image\n",
    "        \n",
    "        gray = cv2.cvtColor(image, cv2.COLOR_BGR2GRAY)  # convert to grayscale\n",
    "        \n",
    "        # detecting face\n",
    "        faces = faceCascade.detectMultiScale(\n",
    "            gray,\n",
    "            scaleFactor=1.3,\n",
    "            minNeighbors=3,\n",
    "            minSize=(30, 30)\n",
    "        )\n",
    "        \n",
    "        # face size width x to x + w and height y to y + h\n",
    "        x, y, w, h = faces[0]\n",
    "        \n",
    "        faceGrayImage = gray[y:y + h, x:x + w]  # extracting face\n",
    "        \n",
    "        faceGrayImage = cv2.resize(faceGrayImage, (48, 48))  # resize to (48 * 48)\n",
    "        \n",
    "        # finally store to the preprocessed image to the directory\n",
    "        cv2.imwrite(f\"{currentWorkingDirectory}/dataset/preprocessedData/{category}/{img}\", faceGrayImage)"
   ]
  },
  {
   "cell_type": "code",
   "execution_count": 6,
   "metadata": {},
   "outputs": [],
   "source": [
    "# final change the directory to current working directory\n",
    "os.chdir(currentWorkingDirectory)"
   ]
  }
 ],
 "metadata": {
  "kernelspec": {
   "display_name": "Python 3",
   "language": "python",
   "name": "python3"
  },
  "language_info": {
   "codemirror_mode": {
    "name": "ipython",
    "version": 3
   },
   "file_extension": ".py",
   "mimetype": "text/x-python",
   "name": "python",
   "nbconvert_exporter": "python",
   "pygments_lexer": "ipython3",
   "version": "3.6.9"
  }
 },
 "nbformat": 4,
 "nbformat_minor": 2
}
