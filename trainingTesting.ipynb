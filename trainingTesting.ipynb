{
 "cells": [
  {
   "cell_type": "code",
   "execution_count": 1,
   "metadata": {},
   "outputs": [],
   "source": [
    "# Importing Libraries\n",
    "import os\n",
    "import cv2\n",
    "import numpy as np\n",
    "import joblib\n",
    "import random\n",
    "import matplotlib.pyplot as plt"
   ]
  },
  {
   "cell_type": "code",
   "execution_count": 2,
   "metadata": {},
   "outputs": [],
   "source": [
    "# get the current directory location\n",
    "currentWorkingDirectory = os.getcwd()"
   ]
  },
  {
   "cell_type": "code",
   "execution_count": 3,
   "metadata": {},
   "outputs": [],
   "source": [
    "# total categories\n",
    "categories = [\"angry\", \"happy\", \"sad\"]"
   ]
  },
  {
   "cell_type": "code",
   "execution_count": 4,
   "metadata": {},
   "outputs": [],
   "source": [
    "# getting data ready for training and testing\n",
    "\n",
    "X = []  # used for storing input values\n",
    "y = []  # used for storing output value\n",
    "\n",
    "# for each category\n",
    "for categoryLabel, category in enumerate(categories):\n",
    "    \n",
    "    # change current working directory to particular category folder\n",
    "    os.chdir(f\"{currentWorkingDirectory}/dataset/preprocessedData/{category}\")\n",
    "    \n",
    "    # for each image\n",
    "    for img in os.listdir():\n",
    "        \n",
    "        # read image in gray scale\n",
    "        image = cv2.imread(img, cv2.IMREAD_GRAYSCALE)\n",
    "        \n",
    "        # convert (48 * 48) image shape to (2304, 1) shape using ravel function\n",
    "        image = image.ravel()\n",
    "        \n",
    "        # standard scaling between 0 to 1 by dividing 25\n",
    "        image = image / 255\n",
    "        \n",
    "        X.append(image)\n",
    "        \n",
    "        y.append(categoryLabel)\n",
    "        \n",
    "# joining both input and output data\n",
    "data = list(zip(X, y))\n",
    "\n",
    "random.shuffle(data)  # shuffle the data to get different datas\n",
    "\n",
    "totalSize = len(data)\n",
    "trainSize = int(totalSize * 0.8)\n",
    "\n",
    "X, y = zip(*data)  # convert back to input and output data\n",
    "\n",
    "# split the data into train and test data\n",
    "X_train, y_train = X[:trainSize], y[:trainSize]\n",
    "X_test, y_test = X[trainSize:], y[trainSize:]\n",
    "\n",
    "# convert it into numpy array\n",
    "X_train = np.array(X_train)\n",
    "X_test = np.array(X_test)\n",
    "\n",
    "y_train = np.array(y_train)\n",
    "y_test = np.array(y_test)\n",
    "\n",
    "# finally change directory to current working directory\n",
    "os.chdir(currentWorkingDirectory)"
   ]
  },
  {
   "cell_type": "code",
   "execution_count": 5,
   "metadata": {},
   "outputs": [
    {
     "name": "stdout",
     "output_type": "stream",
     "text": [
      "X_train shape: (24, 2304)\n",
      "y_train shape: (24,)\n",
      "X_test shape: (7, 2304)\n",
      "y_test.shape: (7,)\n"
     ]
    }
   ],
   "source": [
    "print(f\"X_train shape: {X_train.shape}\")\n",
    "print(f\"y_train shape: {y_train.shape}\")\n",
    "print(f\"X_test shape: {X_test.shape}\")\n",
    "print(f\"y_test.shape: {y_test.shape}\")"
   ]
  },
  {
   "cell_type": "code",
   "execution_count": 6,
   "metadata": {},
   "outputs": [
    {
     "name": "stdout",
     "output_type": "stream",
     "text": [
      "Category: angry\n"
     ]
    },
    {
     "data": {
      "text/plain": [
       "<matplotlib.image.AxesImage at 0x7fddc6456f98>"
      ]
     },
     "execution_count": 6,
     "metadata": {},
     "output_type": "execute_result"
    },
    {
     "data": {
      "image/png": "[encoded data removed]",
      "text/plain": [
       "<Figure size 432x288 with 1 Axes>"
      ]
     },
     "metadata": {
      "needs_background": "light"
     },
     "output_type": "display_data"
    }
   ],
   "source": [
    "# displaying a random image with its category label\n",
    "i = random.randint(0, 16)  # random index \n",
    "\n",
    "sample = X_train[i].reshape((48, 48))  # reshape the data to 2-dimention\n",
    "\n",
    "print(f\"Category: {categories[int(y_train[i])]}\")\n",
    "\n",
    "plt.imshow(sample, cmap='gray')"
   ]
  },
  {
   "cell_type": "code",
   "execution_count": 7,
   "metadata": {},
   "outputs": [],
   "source": [
    "# calculating distance between two images\n",
    "# Euclidean distance\n",
    "\n",
    "def getDistance(x1, x2):\n",
    "    total = 0\n",
    "    for i in range(len(x1)):\n",
    "        total += (x1[i] - x2[i]) ** 2\n",
    "    return np.sqrt(total)"
   ]
  },
  {
   "cell_type": "code",
   "execution_count": 8,
   "metadata": {},
   "outputs": [],
   "source": [
    "# calculating centroids using kmeans\n",
    "\n",
    "def kmeans(X, noOfCentroids, maxIterations=100):\n",
    "  \n",
    "    centroids = X[np.random.choice(range(len(X)), noOfCentroids, replace=False)]\n",
    "\n",
    "    converged = False\n",
    "    \n",
    "    currentIteration = 1\n",
    "\n",
    "    # for each iteration\n",
    "    while((not converged) and (currentIteration <= maxIterations)):\n",
    "\n",
    "        clusterList = [[] for i in range(len(centroids))]\n",
    "\n",
    "        for x in X:  # Go through each data point \n",
    "            \n",
    "            distancesList = []\n",
    "            \n",
    "            for centroid in centroids:\n",
    "                distancesList.append(getDistance(centroid, x))\n",
    "                \n",
    "            clusterList[int(np.argmin(distancesList))].append(x)\n",
    "\n",
    "        clusterList = list((filter(None, clusterList)))\n",
    "\n",
    "        prevCentroids = centroids.copy()\n",
    "\n",
    "        centroids = []\n",
    "\n",
    "        for j in range(len(clusterList)):\n",
    "            centroids.append(np.mean(clusterList[j], axis=0))\n",
    "\n",
    "        difference = np.abs(np.sum(prevCentroids) - np.sum(centroids))\n",
    "\n",
    "        print(f\"K-Means difference for {currentIteration} iterations: {int(difference)}\")\n",
    "\n",
    "        converged = (difference == 0)\n",
    "\n",
    "        currentIteration += 1\n",
    "\n",
    "    return np.array(centroids)"
   ]
  },
  {
   "cell_type": "markdown",
   "metadata": {},
   "source": [
    "Calculate the weight matrix using following equation\n",
    "\n",
    "$ W=(G^T G)− G^T T $          \n",
    "\n",
    "where G^T is the transpose of matrix G."
   ]
  },
  {
   "cell_type": "code",
   "execution_count": 9,
   "metadata": {},
   "outputs": [],
   "source": [
    "class RBF:\n",
    "\n",
    "    def __init__(self, X_train, y_train, X_test, y_test, numOfClasses, numOfClusters):\n",
    "        self.X_train = X_train\n",
    "        self.y_train = y_train\n",
    "\n",
    "        self.X_test = X_test\n",
    "        self.y_test = y_test\n",
    "\n",
    "        self.numOfClasses = numOfClasses\n",
    "        self.numOfClusters = numOfClusters\n",
    "\n",
    "        \n",
    "    def convert_to_one_hot(self, x):\n",
    "        arr = np.zeros((len(x), self.numOfClasses))\n",
    "        for i in range(len(x)):\n",
    "            c = int(x[i])\n",
    "            arr[i][c] = 1\n",
    "        return arr\n",
    "\n",
    "    \n",
    "    def rbf(self, x, centroid, s):\n",
    "        distance = getDistance(x, centroid)\n",
    "        return 1 / np.exp(-distance / s ** 2)\n",
    "\n",
    "    \n",
    "    def calculateG(self, X):\n",
    "        RBF_list = []\n",
    "        for x in X:\n",
    "            RBF_list.append([self.rbf(x, c, s) for (c, s) in zip(self.centroids, self.std_list)])\n",
    "        return np.array(RBF_list)\n",
    "\n",
    "\n",
    "    def fit(self):\n",
    "\n",
    "        # calculate centroids\n",
    "        self.centroids = kmeans(self.X_train, self.numOfClusters)\n",
    "\n",
    "        # calculating standard deviation\n",
    "        dMax = np.max([getDistance(c1, c2) for c1 in self.centroids for c2 in self.centroids])\n",
    "        self.std_list = np.repeat(dMax / np.sqrt(2 * self.numOfClusters), self.numOfClusters)\n",
    "        \n",
    "        # training part\n",
    "        G = self.calculateG(self.X_train)\n",
    "    \n",
    "        GTG = np.dot(G.T, G)\n",
    "        \n",
    "        GTG_inv = np.linalg.inv(GTG)\n",
    "        \n",
    "        fac = np.dot(GTG_inv ,G.T)\n",
    "        \n",
    "        self.weights = np.dot(fac, self.convert_to_one_hot(self.y_train))\n",
    "        \n",
    "        # testing part\n",
    "        RBF_list_tst = self.calculateG(self.X_test)\n",
    "\n",
    "        self.pred_ty = np.dot(RBF_list_tst, self.weights)\n",
    "\n",
    "        self.pred_ty = np.array([np.argmax(x) for x in self.pred_ty])\n",
    "\n",
    "        diff = self.pred_ty - self.y_test\n",
    "\n",
    "        print('Accuracy: ', len(np.where(diff == 0)[0]) / len(diff))"
   ]
  },
  {
   "cell_type": "code",
   "execution_count": 10,
   "metadata": {
    "scrolled": false
   },
   "outputs": [
    {
     "name": "stdout",
     "output_type": "stream",
     "text": [
      "K-Means difference for 1 iterations: 25\n",
      "K-Means difference for 2 iterations: 0\n",
      "K-Means difference for 3 iterations: 0\n",
      "Accuracy:  0.8571428571428571\n"
     ]
    }
   ],
   "source": [
    "rbfClassifier = RBF(X_train, y_train, X_test, y_test, len(categories), 6)\n",
    "rbfClassifier.fit()"
   ]
  },
  {
   "cell_type": "code",
   "execution_count": 11,
   "metadata": {
    "scrolled": true
   },
   "outputs": [
    {
     "data": {
      "text/plain": [
       "array([[-1.17266343,  1.35117299, -0.13812769],\n",
       "       [ 0.10037679,  0.05842377, -0.02341115],\n",
       "       [-0.00503169, -0.27672638,  0.42013823],\n",
       "       [ 0.94479404, -0.06640838, -0.72241606],\n",
       "       [ 0.26393806, -0.28592376,  0.14348542],\n",
       "       [ 0.03495649, -0.44335831,  0.42147479]])"
      ]
     },
     "execution_count": 11,
     "metadata": {},
     "output_type": "execute_result"
    }
   ],
   "source": [
    "rbfClassifier.weights"
   ]
  },
  {
   "cell_type": "code",
   "execution_count": 12,
   "metadata": {},
   "outputs": [
    {
     "data": {
      "text/plain": [
       "array([[0.57254902, 0.60653595, 0.55359477, ..., 0.60522876, 0.60392157,\n",
       "        0.64052288],\n",
       "       [0.58823529, 0.33823529, 0.19509804, ..., 0.55392157, 0.58823529,\n",
       "        0.57156863],\n",
       "       [0.77871148, 0.75462185, 0.67002801, ..., 0.82016807, 0.83417367,\n",
       "        0.7977591 ],\n",
       "       [0.89705882, 0.89117647, 0.83529412, ..., 0.85392157, 0.91176471,\n",
       "        0.89313725],\n",
       "       [0.12941176, 0.08431373, 0.06666667, ..., 0.18235294, 0.1627451 ,\n",
       "        0.15490196],\n",
       "       [0.88235294, 0.89411765, 0.78431373, ..., 0.69411765, 0.60392157,\n",
       "        0.58823529]])"
      ]
     },
     "execution_count": 12,
     "metadata": {},
     "output_type": "execute_result"
    }
   ],
   "source": [
    "rbfClassifier.centroids"
   ]
  },
  {
   "cell_type": "code",
   "execution_count": 13,
   "metadata": {},
   "outputs": [
    {
     "data": {
      "text/plain": [
       "array([5.23792179, 5.23792179, 5.23792179, 5.23792179, 5.23792179,\n",
       "       5.23792179])"
      ]
     },
     "execution_count": 13,
     "metadata": {},
     "output_type": "execute_result"
    }
   ],
   "source": [
    "rbfClassifier.std_list"
   ]
  }
 ],
 "metadata": {
  "kernelspec": {
   "display_name": "Python 3",
   "language": "python",
   "name": "python3"
  },
  "language_info": {
   "codemirror_mode": {
    "name": "ipython",
    "version": 3
   },
   "file_extension": ".py",
   "mimetype": "text/x-python",
   "name": "python",
   "nbconvert_exporter": "python",
   "pygments_lexer": "ipython3",
   "version": "3.6.9"
  }
 },
 "nbformat": 4,
 "nbformat_minor": 2
}
